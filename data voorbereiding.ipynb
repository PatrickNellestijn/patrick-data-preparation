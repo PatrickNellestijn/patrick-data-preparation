{
 "cells": [
  {
   "cell_type": "markdown",
   "metadata": {},
   "source": [
    "<img src=\"https://static.wincacademy.nl/logos/main-logo.png\" height=200px style=\"height: 200px\"/>\n"
   ]
  },
  {
   "cell_type": "markdown",
   "metadata": {},
   "source": [
    "# Data Preparation\n",
    "\n",
    "## CSV\n",
    "\n",
    "Let's talk about the messy part of data analytics: preparing data. Before doing the interesting work of data analytics, we need to:\n",
    "\n",
    "1. Gather the data.\n",
    "2. Structure the data in such a way that we can work with it in our programs.\n",
    "3. Clean the data, which may include dealing with missing or unreasonable values.\n",
    "\n",
    "Here we'll assume gathering the data has been done for us. We'll use a dataset provided by the Dutch *Rijksinstituut voor Volksgezondheid en Milieu* (RIVM, translation: National Institute for Health and Environment). It contains COVID-19 numbers per municipality per day. You should place a copy of the data in a file called `covid-data.csv` located in the same folder as this notebook (be it in Google Colab or locally). You can use the URL below to retrieve it.\n",
    "\n",
    "- Source: Rijksinstituut voor Volksgezondheid en Milieu\n",
    "- Data URL: https://data.rivm.nl/covid-19/COVID-19_aantallen_gemeente_per_dag.csv"
   ]
  },
  {
   "cell_type": "code",
   "execution_count": null,
   "metadata": {},
   "outputs": [],
   "source": [
    "#opdracht voorbereiden data\n",
    "#opleiding data analytics met python\n",
    "#patrick nellestijn\n",
    "#mei 2021"
   ]
  },
  {
   "cell_type": "code",
   "execution_count": null,
   "metadata": {},
   "outputs": [],
   "source": [
    "!pip install matplotlib --user > /dev/null 2>&1\n",
    "!pip install numpy --user > /dev/null 2>&1\n",
    "!pip install pandas --user > /dev/null 2>&1\n",
    "\n",
    "%matplotlib inline\n",
    "import numpy as np\n",
    "import matplotlib.pyplot as plt\n",
    "import pandas as pd\n",
    "import csv"
   ]
  },
  {
   "cell_type": "code",
   "execution_count": null,
   "metadata": {},
   "outputs": [],
   "source": [
    "data_loc = 'covid-data.csv'\n",
    "covid_data = open(data_loc).read()"
   ]
  },
  {
   "source": [
    "Let's take a look at what it looks like by printing the first 1000 characters."
   ],
   "cell_type": "code",
   "metadata": {},
   "execution_count": null,
   "outputs": []
  },
  {
   "cell_type": "code",
   "execution_count": 2,
   "metadata": {},
   "outputs": [
    {
     "output_type": "stream",
     "name": "stdout",
     "text": [
      "Date_of_report;Date_of_publication;Municipality_code;Municipality_name;Province;Security_region_code;Security_region_name;Municipal_health_service;ROAZ_region;Total_reported;Hospital_admission;Deceased\n24-3-2021 10:00;27-2-2020;GM0014;Groningen;Groningen;VR01;Groningen;GGD Groningen;Acute Zorgnetwerk Noord Nederland;0;0;0\n24-3-2021 10:00;27-2-2020;GM0034;Almere;Flevoland;VR25;Flevoland;GGD Flevoland;SpoedZorgNet;0;0;0\n24-3-2021 10:00;27-2-2020;GM0037;Stadskanaal;Groningen;VR01;Groningen;GGD Groningen;Acute Zorgnetwerk Noord Nederland;0;0;0\n24-3-2021 10:00;27-2-2020;GM0047;Veendam;Groningen;VR01;Groningen;GGD Groningen;Acute Zorgnetwerk Noord Nederland;0;0;0\n24-3-2021 10:00;27-2-2020;GM0050;Zeewolde;Flevoland;VR25;Flevoland;GGD Flevoland;SpoedZorgNet;0;0;0\n24-3-2021 10:00;27-2-2020;GM0059;Achtkarspelen;FryslÃ¢n;VR02;FryslÃ¢n;GGD FryslÃ¢n;Acute Zorgnetwerk Noord Nederland;0;0;0\n24-3-2021 10:00;27-2-2020;GM0060;Ameland;FryslÃ¢n;VR02;FryslÃ¢n;GGD FryslÃ¢n;Acute Zorgnetwerk Noord Nederland;\n"
     ]
    }
   ],
   "source": [
    "data_loc = 'covid-data.csv'\n",
    "covid_data = open(data_loc).read()\n",
    "print(covid_data[:1000])"
   ]
  },
  {
   "cell_type": "markdown",
   "metadata": {},
   "source": [
    "That looks pretty chaotic. The data is in a format called `csv`, which is a commonly used format to store and share data.\n",
    "\n",
    "1. A `csv` file contains only text.\n",
    "2. The first line a `csv` file lists column names.\n",
    "3. Each line after that is a datapoint with values for those columns in the same order.\n",
    "\n",
    "Let's look at the first 3 lines instead of the first 1000 characters."
   ]
  },
  {
   "cell_type": "code",
   "execution_count": 4,
   "metadata": {},
   "outputs": [
    {
     "output_type": "stream",
     "name": "stdout",
     "text": [
      "24-3-2021 10:00;27-2-2020;GM0014;Groningen;Groningen;VR01;Groningen;GGD Groningen;Acute Zorgnetwerk Noord Nederland;0;0;0\n24-3-2021 10:00;27-2-2020;GM0034;Almere;Flevoland;VR25;Flevoland;GGD Flevoland;SpoedZorgNet;0;0;0\n24-3-2021 10:00;27-2-2020;GM0037;Stadskanaal;Groningen;VR01;Groningen;GGD Groningen;Acute Zorgnetwerk Noord Nederland;0;0;0\n"
     ]
    }
   ],
   "source": [
    "data_loc = 'covid-data.csv'\n",
    "covid_data = open(data_loc).read()\n",
    "for line in covid_data.split('\\n')[1:4]:\n",
    "    print(line)"
   ]
  },
  {
   "cell_type": "markdown",
   "metadata": {},
   "source": [
    "**1. What are the column names for this dataset? List them here.**\n",
    "\n",
    "*TODO: Your answer here.*\n",
    "\n",
    "-Date_of_report\n",
    "-Date_of_publication\n",
    "-Municipality_code\n",
    "-Municipality_name\n",
    "-Province\n",
    "-Security_region_code\n",
    "-Security_region_name\n",
    "-Municipal_health_service\n",
    "-ROAZ_region\n",
    "-Total_reported\n",
    "-Hospital_admission\n",
    "-Deceased\n",
    "\n",
    "**2. Which character separates the datapoints from each other? Put an `x` in the right box.**\n",
    "\n",
    "- [x] A linebreak\n",
    "- [ ] A tab\n",
    "- [ ] A comma\n",
    "\n",
    "**3. Which character separates the columns within a datapoint from each other?**\n",
    "\n",
    "*TODO: Your answer here.My answer is ';'\n",
    "\n",
    "\n",
    "### Parsing\n",
    "\n",
    "Let's use this information to read the data into our program in a better way. This is known as [*parsing*](https://en.wikipedia.org/wiki/Parsing). Our goal is to structure the data in such a way that we'll be able to write code like this to make it easier to work with the data:\n",
    "\n",
    "```python\n",
    "# For some datapoint, show me the municipality that it concerns.\n",
    "some_datapoint['Municipality_name']\n",
    "```\n",
    "\n",
    "By answering the questions above we have all the information we need to organize the internal *data structure* in this way.\n",
    "\n",
    "- We know what separates datapoints from each other.\n",
    "- We know how columns are separated within datapoints.\n",
    "- We have the column names for each datapoint.\n",
    "\n",
    "We can use this information to instruct Python -- the programming language we're using here -- to create a *data structure* that we can use like in the example above. Once completed, we'll have *parsed* the CSV file.\n",
    "\n",
    "**4. What is parsing in your own words?**\n",
    "\n",
    "*TODO: Your answer here.*\n",
    "\n",
    "**5. Fill in the right column delimiter in the code cell below to complete the code.**"
   ]
  },
  {
   "cell_type": "code",
   "execution_count": 3,
   "metadata": {},
   "outputs": [
    {
     "output_type": "stream",
     "name": "stdout",
     "text": [
      "Municipality name\tTotal cases reported\n",
      "=============================================\n",
      "Groningen               0    \n",
      "Almere                  0    \n",
      "Stadskanaal             0    \n",
      "Veendam                 0    \n",
      "Zeewolde                0    \n",
      "Achtkarspelen           0    \n",
      "Ameland                 0    \n",
      "Harlingen               0    \n",
      "Heerenveen              0    \n",
      "Leeuwarden              0    \n",
      "Ooststellingwerf        0    \n",
      "Opsterland              0    \n",
      "Schiermonnikoog         0    \n",
      "Smallingerland          0    \n",
      "Terschelling            0    \n"
     ]
    }
   ],
   "source": [
    "# TODO: Change PLACEHOLDER to the actual delimiter.\n",
    "delimiter = 'PLACEHOLDER'\n",
    "# Make sure the delimiter is surrounded by quotes, for example: delimiter = '<' if the delimiter is <\n",
    "import csv\n",
    "data_loc = 'covid-data.csv'\n",
    "with open(data_loc) as f:\n",
    "    csv_reader = csv.DictReader(f, delimiter=';')\n",
    "    print('Municipality name\\tTotal cases reported')\n",
    "    print('{:=>45}'.format(''))\n",
    "    data_dicts = list(csv_reader)\n",
    "\n",
    "for row in data_dicts[:15]:\n",
    "    print('{:<23} {:<5}'.format(row['Municipality_name'], row['Total_reported']))"
   ]
  },
  {
   "cell_type": "markdown",
   "metadata": {},
   "source": [
    "Note: Your delimiter was not filled in (correctly) if you got one of these errors:\n",
    "\n",
    "```python\n",
    "TypeError: \"delimiter\" must be a 1-character string\n",
    "KeyError: 'Municipality_name'\n",
    "```\n",
    "\n",
    "## Metadata\n",
    "\n",
    "Alright, this is much better that looking at raw text, like we did before parsing. We'll get to even better views of the data later. First, let's take a look at some *metadata* -- data about data.\n",
    "- The number of datapoints\n",
    "- The number of columns\n",
    "- The names of the columns (again)\n",
    "- The number of missing or empty values\n",
    "- The number of unique values in each column"
   ]
  },
  {
   "cell_type": "code",
   "execution_count": 4,
   "metadata": {},
   "outputs": [
    {
     "output_type": "stream",
     "name": "stdout",
     "text": [
      "Number of datapoints: 148176\n",
      "Number of columns: 12\n",
      "Column names:\n",
      "- Date_of_report\n",
      "- Date_of_publication\n",
      "- Municipality_code\n",
      "- Municipality_name\n",
      "- Province\n",
      "- Security_region_code\n",
      "- Security_region_name\n",
      "- Municipal_health_service\n",
      "- ROAZ_region\n",
      "- Total_reported\n",
      "- Hospital_admission\n",
      "- Deceased\n",
      "Missing/empty values: 22736\n",
      "Number of unique values:\n",
      "- Date_of_report               1\n",
      "- Date_of_publication        392\n",
      "- Municipality_code          353\n",
      "- Municipality_name          353\n",
      "- Province                    12\n",
      "- Security_region_code        26\n",
      "- Security_region_name        26\n",
      "- Municipal_health_service    25\n",
      "- ROAZ_region                 12\n",
      "- Total_reported             366\n",
      "- Hospital_admission          30\n",
      "- Deceased                    20\n"
     ]
    }
   ],
   "source": [
    "from collections import defaultdict\n",
    "\n",
    "print(f'Number of datapoints: {len(data_dicts)}')\n",
    "print(f'Number of columns: {len(data_dicts[0])}')\n",
    "print('Column names:')\n",
    "for k in data_dicts[0].keys():\n",
    "    print(f'- {k}')\n",
    "    \n",
    "unique_vals = [set() for _ in data_dicts[0].keys()]\n",
    "missing = 0\n",
    "for datapoint in data_dicts:\n",
    "    for i, val in enumerate(datapoint.values()):\n",
    "        unique_vals[i].add(val)\n",
    "        if val is None or val == '':\n",
    "            missing += 1\n",
    "print(f'Missing/empty values: {missing}')\n",
    "\n",
    "print('Number of unique values:')\n",
    "for i, k in enumerate(data_dicts[0].keys()):\n",
    "    print('- {:<25}{:5}'.format(k, len(unique_vals[i])))"
   ]
  },
  {
   "cell_type": "markdown",
   "metadata": {},
   "source": [
    "**6. Note three questions that you have about the data based on this metadata. It might be something like:**\n",
    "\n",
    "> **a \"What is the first and last *date of publication* in the dataset?\"**\n",
    "> **b \"Which province has the most publications in the dataset?\"**\n",
    "> **c \"Which province has the less publications in the dataset?\"**\n",
    "> **d \"Which province has the most deceased persons?\"**\n",
    "\n",
    "*TODO: Your answer here. \n",
    "-a 27-2-2020 en 24-3-2021\n",
    "-b Noord-Brabant (25088 in 2020 + 2021)\n",
    "-c Flevoland\n",
    "-d Zuid-Holland\n",
    "\n",
    "**7. Note another metadata property that you would like to know about that's not listed here.**\n",
    "\n",
    "*TODO: Your answer here.\n",
    "- The difference between men and women?\n",
    "- Kind of Treatment?\n",
    "- Time in hospital?\n",
    "- Age?\n",
    "\n",
    "## Working with dates\n",
    "\n",
    "Looking at the metadata is a good way to get a feel for what a dataset looks like, and what type of questions you can answer with it. Let's use our example question to proceed with data preparation:\n",
    "\n",
    "> What is the first and last *date of publication* in the dataset? --> 27-2-2020 en 24-3-2021\n",
    "\n",
    "To answer this question, we can't just assume the first date is at the top and the last date is at the bottom, or vice versa. We need some way to do compare the dates and find out which one is the first and which one is the last. Let's first inspect a few entries in the `Date_of_publication` column to see what they look like."
   ]
  },
  {
   "cell_type": "code",
   "execution_count": 5,
   "metadata": {},
   "outputs": [
    {
     "output_type": "stream",
     "name": "stdout",
     "text": [
      "The current datatype for the Date_of_publication column is: <class 'str'>\n27-2-2020\n17-3-2020\n6-4-2020\n25-4-2020\n15-5-2020\n3-6-2020\n23-6-2020\n13-7-2020\n1-8-2020\n21-8-2020\n9-9-2020\n29-9-2020\n19-10-2020\n7-11-2020\n27-11-2020\n16-12-2020\n5-1-2021\n25-1-2021\n13-2-2021\n5-3-2021\n24-3-2021\n"
     ]
    }
   ],
   "source": [
    "print('The current datatype for the Date_of_publication column is:', type(data_dicts[0]['Date_of_publication']))\n",
    "for row in data_dicts[::int(len(data_dicts) / 20)]:\n",
    "    print(row['Date_of_publication'])"
   ]
  },
  {
   "cell_type": "markdown",
   "metadata": {},
   "source": [
    "We see that the data type is `str`, which is short for *string*, the programming term for *text*. We can't do any clever comparing with just text. We need to *parse* these dates to be able to make comparisons between them. \n",
    "\n",
    "Fortunately, the dates are then specified in a certain *date format*. For example, in the Netherlands people often write '24/12/1980' for the 24th day of December in the year 1980. We could specify that format as `DD/MM/YYYY`.\n",
    "\n",
    "- `DD` stands for 'Two numbers that represent the day'.\n",
    "- `MM` stands for 'Two numbers that represent the month'.\n",
    "- `YYYY` stands for 'Four numbers that represent the year'.\n",
    "\n",
    "If they wrote `-` instead of `/`, like so: '24-12-1980', the format would be `DD-MM-YYYY`.\n",
    "\n",
    "**8. What is the *date format* in the `Date_of_publication` column in our dataset?**\n",
    "\n",
    "*TODO: Your answer here. - 2020-02-27 / \"YYYY-MM-DD' *\n",
    "\n",
    "**9. Fill in this format in the placeholder in the code block below.**\n",
    "\n",
    "- **Use `%Y` for `YYYY`.**\n",
    "- **Use `%m` for `MM`.**\n",
    "- **Use `%d` for `DD`.**\n",
    "\n",
    "**For example, the Dutch date format ('DD/MM/YYYY' would be `'%d/%m/%Y'`)**"
   ]
  },
  {
   "cell_type": "code",
   "execution_count": 133,
   "metadata": {},
   "outputs": [
    {
     "output_type": "error",
     "ename": "TypeError",
     "evalue": "'type' object is not subscriptable",
     "traceback": [
      "\u001b[1;31m---------------------------------------------------------------------------\u001b[0m",
      "\u001b[1;31mTypeError\u001b[0m                                 Traceback (most recent call last)",
      "\u001b[1;32m<ipython-input-133-70b9fce35136>\u001b[0m in \u001b[0;36m<module>\u001b[1;34m\u001b[0m\n\u001b[0;32m      6\u001b[0m \u001b[1;33m\u001b[0m\u001b[0m\n\u001b[0;32m      7\u001b[0m \u001b[1;32mfor\u001b[0m \u001b[0mrow\u001b[0m \u001b[1;32min\u001b[0m \u001b[0mdata_dicts\u001b[0m\u001b[1;33m:\u001b[0m\u001b[1;33m\u001b[0m\u001b[1;33m\u001b[0m\u001b[0m\n\u001b[1;32m----> 8\u001b[1;33m     \u001b[0mformatted_date\u001b[0m \u001b[1;33m=\u001b[0m \u001b[0mdatetime\u001b[0m\u001b[1;33m.\u001b[0m\u001b[0mstrptime\u001b[0m\u001b[1;33m(\u001b[0m\u001b[0mstr\u001b[0m\u001b[1;33m[\u001b[0m\u001b[1;34m'Date_of_publication'\u001b[0m\u001b[1;33m]\u001b[0m\u001b[1;33m,\u001b[0m \u001b[0mdate_format\u001b[0m\u001b[1;33m)\u001b[0m\u001b[1;33m.\u001b[0m\u001b[0mdate\u001b[0m\u001b[1;33m(\u001b[0m\u001b[1;33m)\u001b[0m\u001b[1;33m\u001b[0m\u001b[1;33m\u001b[0m\u001b[0m\n\u001b[0m\u001b[0;32m      9\u001b[0m     \u001b[0mrow\u001b[0m\u001b[1;33m[\u001b[0m\u001b[1;34m'Date_of_publication'\u001b[0m\u001b[1;33m]\u001b[0m \u001b[1;33m=\u001b[0m \u001b[0mformatted_date\u001b[0m\u001b[1;33m\u001b[0m\u001b[1;33m\u001b[0m\u001b[0m\n\u001b[0;32m     10\u001b[0m \u001b[1;33m\u001b[0m\u001b[0m\n",
      "\u001b[1;31mTypeError\u001b[0m: 'type' object is not subscriptable"
     ]
    }
   ],
   "source": [
    "from datetime import datetime\n",
    "\n",
    "# TODO: Fill in date format for PLACEHOLDER in the next line.\n",
    "date_format = '%Y-%m-%d'\n",
    "# Don't modify anything below this line.\n",
    "\n",
    "for row in data_dicts:\n",
    "    formatted_date = datetime.strptime(row['Date_of_publication'], date_format).date()\n",
    "    row['Date_of_publication'] = formatted_date\n",
    "    \n",
    "print('The new datatype for the Date_of_publication column is:', type(data_dicts[0]['Date_of_publication']))"
   ]
  },
  {
   "cell_type": "markdown",
   "metadata": {},
   "source": [
    "If you get an error like the following, your `date_format` is not correct yet.\n",
    "\n",
    "```python\n",
    "ValueError: time data '2020-02-27' does not match format 'PLACEHOLDER'\n",
    "```\n",
    "\n",
    "After filling in `date_format` correctly, you should see a line that confirms that the new datatype for this column is `datetime.date`. Great! Now we can compare the dates in the column and answer our original question:\n",
    "\n",
    "> What is the first and last *date of publication* in the dataset?\n",
    "\n",
    "We can now compare the dates with:\n",
    "\n",
    "- `a > b`: this checks if `a` is *later* than `b`.\n",
    "- `a < b`: this checks if `a` is *earlier* than `b`."
   ]
  },
  {
   "cell_type": "code",
   "execution_count": 74,
   "metadata": {},
   "outputs": [
    {
     "output_type": "stream",
     "name": "stdout",
     "text": [
      "The first date of publication is 2020-02-27\nThe last date of publication is 2021-03-24\nThe dataset spans 391 days\n"
     ]
    }
   ],
   "source": [
    "# We make the assumption that the date of publication of the first datapoint is the only date. \n",
    "first_date_of_publication = data_dicts[0]['Date_of_publication']\n",
    "last_date_of_publication = data_dicts[0]['Date_of_publication']\n",
    "# Then we see if we can find any earlier ones, or later ones.\n",
    "for row in data_dicts:\n",
    "    # Check if this date is earlier than the currently known first date of publication\n",
    "    if row['Date_of_publication'] < first_date_of_publication:\n",
    "        # If so, this is now the new earliest date.\n",
    "        first_date_of_publication = row['Date_of_publication']\n",
    "    # Check if this date is later than the currently known last date of publication\n",
    "    elif row['Date_of_publication'] > last_date_of_publication:\n",
    "        # If so, this is now the new latest date.\n",
    "        last_date_of_publication = row['Date_of_publication']\n",
    "\n",
    "print(f'The first date of publication is {first_date_of_publication}')\n",
    "print(f'The last date of publication is {last_date_of_publication}')\n",
    "print(f'The dataset spans {(last_date_of_publication - first_date_of_publication).days} days')"
   ]
  },
  {
   "cell_type": "markdown",
   "metadata": {},
   "source": [
    "Cool! We now have a better understanding of what the `Date_of_publication` column looks like.\n",
    "\n",
    "**10. Explain, in your own words, what a string is.**\n",
    "\n",
    "*TODO: Your answer here. - A string is a sequence of characters. A string is a data type.*\n",
    "\n",
    "**11. Explain, in your own words, what a date string is.**\n",
    "\n",
    "*TODO: Your answer here. A date string is a format specifier tot define the text representation of a Date Time.*\n",
    "\n",
    "**12. Explain, in your own words, why we converted date strings to a `datetime.date` type.**\n",
    "\n",
    "*TODO: Your answer here. - We need tot convert the string into a readable format.*\n",
    "\n",
    "\n",
    "## Working with numbers\n",
    "\n",
    "We'd like to wrap up this lesson with a nice visualization of how many COVID cases were reported over time in a certain municipality. For that we not only have to work with strings and dates, but also with *numbers*. We can find the right number in the `Total_reported` column, but again, it's not yet in the right format. It's a string, while it needs to be a number.\n",
    "\n",
    "Let's apply the same strategy that we used with dates before. Note that if you run the cell below multiple times, it will no longer show that the column values used to be a strings -- they were converted the first time."
   ]
  },
  {
   "cell_type": "code",
   "execution_count": 75,
   "metadata": {},
   "outputs": [
    {
     "output_type": "stream",
     "name": "stdout",
     "text": [
      "The current datatype for the Total_reported column is: <class 'str'>\nThe new datatype for the Total_reported column is: <class 'int'>\n"
     ]
    }
   ],
   "source": [
    "print('The current datatype for the Total_reported column is:', type(data_dicts[0]['Total_reported']))\n",
    "for row in data_dicts:\n",
    "    row['Total_reported'] = int(row['Total_reported'])\n",
    "print('The new datatype for the Total_reported column is:', type(data_dicts[0]['Total_reported']))"
   ]
  },
  {
   "cell_type": "markdown",
   "metadata": {},
   "source": [
    "The new datatype for the `Total_reported` column is `int`, which stands for *integer*. This is the programming term for *whole number*. Bonus: the term for a decimal number is *float*.\n",
    "\n",
    "**13. Which variable in the code snippet below is an integer? (write an `x` in the right box)**\n",
    "\n",
    "```python\n",
    "a = 'Hello, world!'\n",
    "b = 42\n",
    "```\n",
    "\n",
    "- [ ] `a`\n",
    "- [x] `b`\n",
    "\n",
    "**14. Which variable in the code snippet below is an integer? (write an `x` in the right box)**\n",
    "\n",
    "```python\n",
    "a = '42'\n",
    "b = 42\n",
    "```\n",
    "\n",
    "- [ ] `a`\n",
    "- [x] `b`\n",
    "\n",
    "Now that the `Total_reported` column has the correct datatype, let's write a script that tells us the reported number per municipality. For convenience, we first print a list of all the municipalities in the dataset.\n",
    "\n",
    "**15. Choose one of the municipalities printed in the code block below. Then fill it in (exactly as it was displayed) in the next cell and run it to find the total number of reported cases in that municipality.**"
   ]
  },
  {
   "cell_type": "code",
   "execution_count": 76,
   "metadata": {},
   "outputs": [
    {
     "output_type": "stream",
     "name": "stdout",
     "text": [
      "- 's-Gravenhage\n- 's-Hertogenbosch\n- Aa en Hunze\n- Aalsmeer\n- Aalten\n- Achtkarspelen\n- Alblasserdam\n- Albrandswaard\n- Alkmaar\n- Almelo\n- Almere\n- Alphen aan den Rijn\n- Alphen-Chaam\n- Altena\n- Ameland\n- Amersfoort\n- Amstelveen\n- Amsterdam\n- Apeldoorn\n- Arnhem\n- Assen\n- Asten\n- Baarle-Nassau\n- Baarn\n- Barendrecht\n- Barneveld\n- Beek\n- Beekdaelen\n- Beemster\n- Beesel\n- Berg en Dal\n- Bergeijk\n- Bergen (L.)\n- Bergen (NH.)\n- Bergen op Zoom\n- Berkelland\n- Bernheze\n- Best\n- Beuningen\n- Beverwijk\n- Bladel\n- Blaricum\n- Bloemendaal\n- Bodegraven-Reeuwijk\n- Boekel\n- Borger-Odoorn\n- Borne\n- Borsele\n- Boxmeer\n- Boxtel\n- Breda\n- Brielle\n- Bronckhorst\n- Brummen\n- Brunssum\n- Bunnik\n- Bunschoten\n- Buren\n- Capelle aan den IJssel\n- Castricum\n- Coevorden\n- Cranendonck\n- Cuijk\n- Culemborg\n- Dalfsen\n- Dantumadiel\n- De Bilt\n- De Fryske Marren\n- De Ronde Venen\n- De Wolden\n- Delft\n- Den Helder\n- Deurne\n- Deventer\n- Diemen\n- Dinkelland\n- Doesburg\n- Doetinchem\n- Dongen\n- Dordrecht\n- Drechterland\n- Drimmelen\n- Dronten\n- Druten\n- Duiven\n- Echt-Susteren\n- Edam-Volendam\n- Ede\n- Eemnes\n- Eemsdelta\n- Eersel\n- Eijsden-Margraten\n- Eindhoven\n- Elburg\n- Emmen\n- Enkhuizen\n- Enschede\n- Epe\n- Ermelo\n- Etten-Leur\n- Geertruidenberg\n- Geldrop-Mierlo\n- Gemert-Bakel\n- Gennep\n- Gilze en Rijen\n- Goeree-Overflakkee\n- Goes\n- Goirle\n- Gooise Meren\n- Gorinchem\n- Gouda\n- Grave\n- Groningen\n- Gulpen-Wittem\n- Haaksbergen\n- Haarlem\n- Haarlemmermeer\n- Halderberge\n- Hardenberg\n- Harderwijk\n- Hardinxveld-Giessendam\n- Harlingen\n- Hattem\n- Heemskerk\n- Heemstede\n- Heerde\n- Heerenveen\n- Heerhugowaard\n- Heerlen\n- Heeze-Leende\n- Heiloo\n- Hellendoorn\n- Hellevoetsluis\n- Helmond\n- Hendrik-Ido-Ambacht\n- Hengelo (O.)\n- Het Hogeland\n- Heumen\n- Heusden\n- Hillegom\n- Hilvarenbeek\n- Hilversum\n- Hoeksche Waard\n- Hof van Twente\n- Hollands Kroon\n- Hoogeveen\n- Hoorn\n- Horst aan de Maas\n- Houten\n- Huizen\n- Hulst\n- IJsselstein\n- Kaag en Braassem\n- Kampen\n- Kapelle\n- Katwijk\n- Kerkrade\n- Koggenland\n- Krimpen aan den IJssel\n- Krimpenerwaard\n- Laarbeek\n- Landerd\n- Landgraaf\n- Landsmeer\n- Langedijk\n- Lansingerland\n- Laren\n- Leeuwarden\n- Leiden\n- Leiderdorp\n- Leidschendam-Voorburg\n- Lelystad\n- Leudal\n- Leusden\n- Lingewaard\n- Lisse\n- Lochem\n- Loon op Zand\n- Lopik\n- Losser\n- Maasdriel\n- Maasgouw\n- Maassluis\n- Maastricht\n- Medemblik\n- Meerssen\n- Meierijstad\n- Meppel\n- Middelburg\n- Midden-Delfland\n- Midden-Drenthe\n- Midden-Groningen\n- Mill en Sint Hubert\n- Moerdijk\n- Molenlanden\n- Montferland\n- Montfoort\n- Mook en Middelaar\n- Neder-Betuwe\n- Nederweert\n- Nieuwegein\n- Nieuwkoop\n- Nijkerk\n- Nijmegen\n- Nissewaard\n- Noardeast-FryslÃ¢n\n- Noord-Beveland\n- Noordenveld\n- Noordoostpolder\n- Noordwijk\n- Nuenen, Gerwen en Nederwetten\n- Nunspeet\n- Oegstgeest\n- Oirschot\n- Oisterwijk\n- Oldambt\n- Oldebroek\n- Oldenzaal\n- Olst-Wijhe\n- Ommen\n- Oost Gelre\n- Oosterhout\n- Ooststellingwerf\n- Oostzaan\n- Opmeer\n- Opsterland\n- Oss\n- Oude IJsselstreek\n- Ouder-Amstel\n- Oudewater\n- Overbetuwe\n- Papendrecht\n- Peel en Maas\n- Pekela\n- Pijnacker-Nootdorp\n- Purmerend\n- Putten\n- Raalte\n- Reimerswaal\n- Renkum\n- Renswoude\n- Reusel-De Mierden\n- Rheden\n- Rhenen\n- Ridderkerk\n- Rijssen-Holten\n- Rijswijk\n- Roerdalen\n- Roermond\n- Roosendaal\n- Rotterdam\n- Rozendaal\n- Rucphen\n- Schagen\n- Scherpenzeel\n- Schiedam\n- Schiermonnikoog\n- Schouwen-Duiveland\n- Simpelveld\n- Sint Anthonis\n- Sint-Michielsgestel\n- Sittard-Geleen\n- Sliedrecht\n- Sluis\n- Smallingerland\n- Soest\n- Someren\n- Son en Breugel\n- Stadskanaal\n- Staphorst\n- Stede Broec\n- Steenbergen\n- Steenwijkerland\n- Stein\n- Stichtse Vecht\n- SÃºdwest-FryslÃ¢n\n- Terneuzen\n- Terschelling\n- Texel\n- Teylingen\n- Tholen\n- Tiel\n- Tilburg\n- Tubbergen\n- Twenterand\n- Tynaarlo\n- Tytsjerksteradiel\n- Uden\n- Uitgeest\n- Uithoorn\n- Urk\n- Utrecht\n- Utrechtse Heuvelrug\n- Vaals\n- Valkenburg aan de Geul\n- Valkenswaard\n- Veendam\n- Veenendaal\n- Veere\n- Veldhoven\n- Velsen\n- Venlo\n- Venray\n- Vijfheerenlanden\n- Vlaardingen\n- Vlieland\n- Vlissingen\n- Voerendaal\n- Voorschoten\n- Voorst\n- Vught\n- Waadhoeke\n- Waalre\n- Waalwijk\n- Waddinxveen\n- Wageningen\n- Wassenaar\n- Waterland\n- Weert\n- Weesp\n- West Betuwe\n- West Maas en Waal\n- Westerkwartier\n- Westerveld\n- Westervoort\n- Westerwolde\n- Westland\n- Weststellingwerf\n- Westvoorne\n- Wierden\n- Wijchen\n- Wijdemeren\n- Wijk bij Duurstede\n- Winterswijk\n- Woensdrecht\n- Woerden\n- Wormerland\n- Woudenberg\n- Zaanstad\n- Zaltbommel\n- Zandvoort\n- Zeewolde\n- Zeist\n- Zevenaar\n- Zoetermeer\n- Zoeterwoude\n- Zuidplas\n- Zundert\n- Zutphen\n- Zwartewaterland\n- Zwijndrecht\n- Zwolle\n"
     ]
    }
   ],
   "source": [
    "for m in sorted(unique_vals[3]):\n",
    "    if m != '':\n",
    "        print('-', m)"
   ]
  },
  {
   "cell_type": "code",
   "execution_count": 81,
   "metadata": {},
   "outputs": [
    {
     "output_type": "stream",
     "name": "stdout",
     "text": [
      "The total number of reported cases in Groningen is 10242\n"
     ]
    }
   ],
   "source": [
    "# TODO: FILL IN THE MUNICIPALITY YOU'RE INTERESTED IN HERE\n",
    "municipality = 'Groningen'\n",
    "# DON'T MODIFY ANYTHING BELOW THIS LINE\n",
    "\n",
    "reported = 0\n",
    "for row in data_dicts:\n",
    "    if row['Municipality_name'] == municipality:\n",
    "        reported += row['Total_reported']\n",
    "print(f'The total number of reported cases in {municipality} is {reported}')"
   ]
  },
  {
   "cell_type": "markdown",
   "metadata": {},
   "source": [
    "Because we have all the data types in order, we can also easily plot the development of new reported cases for that same municipality. "
   ]
  },
  {
   "cell_type": "code",
   "execution_count": 116,
   "metadata": {},
   "outputs": [
    {
     "output_type": "error",
     "ename": "AttributeError",
     "evalue": "'function' object has no attribute 'subplots'",
     "traceback": [
      "\u001b[1;31m---------------------------------------------------------------------------\u001b[0m",
      "\u001b[1;31mAttributeError\u001b[0m                            Traceback (most recent call last)",
      "\u001b[1;32m<ipython-input-116-8f4b94eea9cf>\u001b[0m in \u001b[0;36m<module>\u001b[1;34m\u001b[0m\n\u001b[0;32m      4\u001b[0m             \u001b[0mnew_cases_per_day\u001b[0m\u001b[1;33m[\u001b[0m\u001b[0mrow\u001b[0m\u001b[1;33m[\u001b[0m\u001b[1;34m'Date_of_publication'\u001b[0m\u001b[1;33m]\u001b[0m\u001b[1;33m]\u001b[0m \u001b[1;33m+=\u001b[0m \u001b[0mrow\u001b[0m\u001b[1;33m[\u001b[0m\u001b[1;34m'Total_reported'\u001b[0m\u001b[1;33m]\u001b[0m\u001b[1;33m\u001b[0m\u001b[1;33m\u001b[0m\u001b[0m\n\u001b[0;32m      5\u001b[0m \u001b[0mnew_cases_per_day\u001b[0m \u001b[1;33m=\u001b[0m \u001b[0msorted\u001b[0m\u001b[1;33m(\u001b[0m\u001b[0mnew_cases_per_day\u001b[0m\u001b[1;33m.\u001b[0m\u001b[0mitems\u001b[0m\u001b[1;33m(\u001b[0m\u001b[1;33m)\u001b[0m\u001b[1;33m,\u001b[0m \u001b[0mkey\u001b[0m\u001b[1;33m=\u001b[0m\u001b[1;32mlambda\u001b[0m \u001b[0mx\u001b[0m\u001b[1;33m:\u001b[0m \u001b[0mx\u001b[0m\u001b[1;33m[\u001b[0m\u001b[1;36m0\u001b[0m\u001b[1;33m]\u001b[0m\u001b[1;33m)\u001b[0m\u001b[1;33m\u001b[0m\u001b[1;33m\u001b[0m\u001b[0m\n\u001b[1;32m----> 6\u001b[1;33m \u001b[0mfig\u001b[0m\u001b[1;33m,\u001b[0m \u001b[0max\u001b[0m \u001b[1;33m=\u001b[0m \u001b[0mplt\u001b[0m\u001b[1;33m.\u001b[0m\u001b[0msubplots\u001b[0m\u001b[1;33m(\u001b[0m\u001b[0mfigsize\u001b[0m\u001b[1;33m=\u001b[0m\u001b[1;33m(\u001b[0m\u001b[1;36m16\u001b[0m\u001b[1;33m,\u001b[0m\u001b[1;36m9\u001b[0m\u001b[1;33m)\u001b[0m\u001b[1;33m)\u001b[0m\u001b[1;33m\u001b[0m\u001b[1;33m\u001b[0m\u001b[0m\n\u001b[0m\u001b[0;32m      7\u001b[0m \u001b[0max\u001b[0m\u001b[1;33m.\u001b[0m\u001b[0mplot\u001b[0m\u001b[1;33m(\u001b[0m\u001b[1;33m[\u001b[0m\u001b[0mdate\u001b[0m \u001b[1;32mfor\u001b[0m \u001b[0mdate\u001b[0m\u001b[1;33m,\u001b[0m \u001b[0m_\u001b[0m \u001b[1;32min\u001b[0m \u001b[0mnew_cases_per_day\u001b[0m\u001b[1;33m]\u001b[0m\u001b[1;33m,\u001b[0m \u001b[1;33m[\u001b[0m\u001b[0mcases\u001b[0m \u001b[1;32mfor\u001b[0m \u001b[0m_\u001b[0m\u001b[1;33m,\u001b[0m \u001b[0mcases\u001b[0m \u001b[1;32min\u001b[0m \u001b[0mnew_cases_per_day\u001b[0m\u001b[1;33m]\u001b[0m\u001b[1;33m)\u001b[0m\u001b[1;33m\u001b[0m\u001b[1;33m\u001b[0m\u001b[0m\n\u001b[0;32m      8\u001b[0m \u001b[0max\u001b[0m\u001b[1;33m.\u001b[0m\u001b[0mset_xlabel\u001b[0m\u001b[1;33m(\u001b[0m\u001b[1;34m'Date'\u001b[0m\u001b[1;33m)\u001b[0m\u001b[1;33m\u001b[0m\u001b[1;33m\u001b[0m\u001b[0m\n",
      "\u001b[1;31mAttributeError\u001b[0m: 'function' object has no attribute 'subplots'"
     ]
    }
   ],
   "source": [
    "new_cases_per_day = defaultdict(int)\n",
    "for row in data_dicts:\n",
    "        if row['Municipality_name'] == municipality:\n",
    "            new_cases_per_day[row['Date_of_publication']] += row['Total_reported']\n",
    "new_cases_per_day = sorted(new_cases_per_day.items(), key=lambda x: x[0])\n",
    "fig, ax = plt.subplots(figsize=(16,9))\n",
    "ax.plot([date for date, _ in new_cases_per_day], [cases for _, cases in new_cases_per_day])\n",
    "ax.set_xlabel('Date')\n",
    "ax.set_ylabel('Number of new cases')\n"
   ]
  },
  {
   "cell_type": "markdown",
   "metadata": {},
   "source": [
    "## Missing Data\n",
    "\n",
    "Finally, a visualization! Let's tackle one final problem: missing data. When we were looking at the metadata, we found that we have $22736$ missing or empty values. Let's print a few datapoints that contain missing values to see what we're dealing with exactly."
   ]
  },
  {
   "cell_type": "code",
   "execution_count": 92,
   "metadata": {
    "tags": [
     "outputPrepend"
    ]
   },
   "outputs": [
    {
     "output_type": "stream",
     "name": "stdout",
     "text": [
      "_code', 'Security_region_name']\n",
      "Row 144768 contains empty values for: ['Municipality_code', 'Municipality_name']\n",
      "Row 144769 contains empty values for: ['Municipality_code', 'Municipality_name']\n",
      "Row 144770 contains empty values for: ['Municipality_code', 'Municipality_name']\n",
      "Row 144771 contains empty values for: ['Municipality_code', 'Municipality_name']\n",
      "Row 144772 contains empty values for: ['Municipality_code', 'Municipality_name']\n",
      "Row 144773 contains empty values for: ['Municipality_code', 'Municipality_name', 'ROAZ_region']\n",
      "Row 145127 contains empty values for: ['Municipality_code', 'Municipality_name']\n",
      "Row 145128 contains empty values for: ['Municipality_code', 'Municipality_name', 'ROAZ_region']\n",
      "Row 145129 contains empty values for: ['Municipality_code', 'Municipality_name']\n",
      "Row 145130 contains empty values for: ['Municipality_code', 'Municipality_name']\n",
      "Row 145131 contains empty values for: ['Municipality_code', 'Municipality_name', 'ROAZ_region']\n",
      "Row 145132 contains empty values for: ['Municipality_code', 'Municipality_name', 'ROAZ_region']\n",
      "Row 145133 contains empty values for: ['Municipality_code', 'Municipality_name']\n",
      "Row 145134 contains empty values for: ['Municipality_code', 'Municipality_name']\n",
      "Row 145135 contains empty values for: ['Municipality_code', 'Municipality_name']\n",
      "Row 145136 contains empty values for: ['Municipality_code', 'Municipality_name', 'ROAZ_region']\n",
      "Row 145137 contains empty values for: ['Municipality_code', 'Municipality_name']\n",
      "Row 145138 contains empty values for: ['Municipality_code', 'Municipality_name', 'ROAZ_region']\n",
      "Row 145139 contains empty values for: ['Municipality_code', 'Municipality_name']\n",
      "Row 145140 contains empty values for: ['Municipality_code', 'Municipality_name']\n",
      "Row 145141 contains empty values for: ['Municipality_code', 'Municipality_name']\n",
      "Row 145142 contains empty values for: ['Municipality_code', 'Municipality_name']\n",
      "Row 145143 contains empty values for: ['Municipality_code', 'Municipality_name']\n",
      "Row 145144 contains empty values for: ['Municipality_code', 'Municipality_name']\n",
      "Row 145145 contains empty values for: ['Municipality_code', 'Municipality_name', 'Security_region_code', 'Security_region_name']\n",
      "Row 145146 contains empty values for: ['Municipality_code', 'Municipality_name']\n",
      "Row 145147 contains empty values for: ['Municipality_code', 'Municipality_name']\n",
      "Row 145148 contains empty values for: ['Municipality_code', 'Municipality_name']\n",
      "Row 145149 contains empty values for: ['Municipality_code', 'Municipality_name']\n",
      "Row 145150 contains empty values for: ['Municipality_code', 'Municipality_name']\n",
      "Row 145151 contains empty values for: ['Municipality_code', 'Municipality_name', 'ROAZ_region']\n",
      "Row 145505 contains empty values for: ['Municipality_code', 'Municipality_name']\n",
      "Row 145506 contains empty values for: ['Municipality_code', 'Municipality_name', 'ROAZ_region']\n",
      "Row 145507 contains empty values for: ['Municipality_code', 'Municipality_name']\n",
      "Row 145508 contains empty values for: ['Municipality_code', 'Municipality_name']\n",
      "Row 145509 contains empty values for: ['Municipality_code', 'Municipality_name', 'ROAZ_region']\n",
      "Row 145510 contains empty values for: ['Municipality_code', 'Municipality_name', 'ROAZ_region']\n",
      "Row 145511 contains empty values for: ['Municipality_code', 'Municipality_name']\n",
      "Row 145512 contains empty values for: ['Municipality_code', 'Municipality_name']\n",
      "Row 145513 contains empty values for: ['Municipality_code', 'Municipality_name']\n",
      "Row 145514 contains empty values for: ['Municipality_code', 'Municipality_name', 'ROAZ_region']\n",
      "Row 145515 contains empty values for: ['Municipality_code', 'Municipality_name']\n",
      "Row 145516 contains empty values for: ['Municipality_code', 'Municipality_name', 'ROAZ_region']\n",
      "Row 145517 contains empty values for: ['Municipality_code', 'Municipality_name']\n",
      "Row 145518 contains empty values for: ['Municipality_code', 'Municipality_name']\n",
      "Row 145519 contains empty values for: ['Municipality_code', 'Municipality_name']\n",
      "Row 145520 contains empty values for: ['Municipality_code', 'Municipality_name']\n",
      "Row 145521 contains empty values for: ['Municipality_code', 'Municipality_name']\n",
      "Row 145522 contains empty values for: ['Municipality_code', 'Municipality_name']\n",
      "Row 145523 contains empty values for: ['Municipality_code', 'Municipality_name', 'Security_region_code', 'Security_region_name']\n",
      "Row 145524 contains empty values for: ['Municipality_code', 'Municipality_name']\n",
      "Row 145525 contains empty values for: ['Municipality_code', 'Municipality_name']\n",
      "Row 145526 contains empty values for: ['Municipality_code', 'Municipality_name']\n",
      "Row 145527 contains empty values for: ['Municipality_code', 'Municipality_name']\n",
      "Row 145528 contains empty values for: ['Municipality_code', 'Municipality_name']\n",
      "Row 145529 contains empty values for: ['Municipality_code', 'Municipality_name', 'ROAZ_region']\n",
      "Row 145883 contains empty values for: ['Municipality_code', 'Municipality_name']\n",
      "Row 145884 contains empty values for: ['Municipality_code', 'Municipality_name', 'ROAZ_region']\n",
      "Row 145885 contains empty values for: ['Municipality_code', 'Municipality_name']\n",
      "Row 145886 contains empty values for: ['Municipality_code', 'Municipality_name']\n",
      "Row 145887 contains empty values for: ['Municipality_code', 'Municipality_name', 'ROAZ_region']\n",
      "Row 145888 contains empty values for: ['Municipality_code', 'Municipality_name', 'ROAZ_region']\n",
      "Row 145889 contains empty values for: ['Municipality_code', 'Municipality_name']\n",
      "Row 145890 contains empty values for: ['Municipality_code', 'Municipality_name']\n",
      "Row 145891 contains empty values for: ['Municipality_code', 'Municipality_name']\n",
      "Row 145892 contains empty values for: ['Municipality_code', 'Municipality_name', 'ROAZ_region']\n",
      "Row 145893 contains empty values for: ['Municipality_code', 'Municipality_name']\n",
      "Row 145894 contains empty values for: ['Municipality_code', 'Municipality_name', 'ROAZ_region']\n",
      "Row 145895 contains empty values for: ['Municipality_code', 'Municipality_name']\n",
      "Row 145896 contains empty values for: ['Municipality_code', 'Municipality_name']\n",
      "Row 145897 contains empty values for: ['Municipality_code', 'Municipality_name']\n",
      "Row 145898 contains empty values for: ['Municipality_code', 'Municipality_name']\n",
      "Row 145899 contains empty values for: ['Municipality_code', 'Municipality_name']\n",
      "Row 145900 contains empty values for: ['Municipality_code', 'Municipality_name']\n",
      "Row 145901 contains empty values for: ['Municipality_code', 'Municipality_name', 'Security_region_code', 'Security_region_name']\n",
      "Row 145902 contains empty values for: ['Municipality_code', 'Municipality_name']\n",
      "Row 145903 contains empty values for: ['Municipality_code', 'Municipality_name']\n",
      "Row 145904 contains empty values for: ['Municipality_code', 'Municipality_name']\n",
      "Row 145905 contains empty values for: ['Municipality_code', 'Municipality_name']\n",
      "Row 145906 contains empty values for: ['Municipality_code', 'Municipality_name']\n",
      "Row 145907 contains empty values for: ['Municipality_code', 'Municipality_name', 'ROAZ_region']\n",
      "Row 146261 contains empty values for: ['Municipality_code', 'Municipality_name']\n",
      "Row 146262 contains empty values for: ['Municipality_code', 'Municipality_name', 'ROAZ_region']\n",
      "Row 146263 contains empty values for: ['Municipality_code', 'Municipality_name']\n",
      "Row 146264 contains empty values for: ['Municipality_code', 'Municipality_name']\n",
      "Row 146265 contains empty values for: ['Municipality_code', 'Municipality_name', 'ROAZ_region']\n",
      "Row 146266 contains empty values for: ['Municipality_code', 'Municipality_name', 'ROAZ_region']\n",
      "Row 146267 contains empty values for: ['Municipality_code', 'Municipality_name']\n",
      "Row 146268 contains empty values for: ['Municipality_code', 'Municipality_name']\n",
      "Row 146269 contains empty values for: ['Municipality_code', 'Municipality_name']\n",
      "Row 146270 contains empty values for: ['Municipality_code', 'Municipality_name', 'ROAZ_region']\n",
      "Row 146271 contains empty values for: ['Municipality_code', 'Municipality_name']\n",
      "Row 146272 contains empty values for: ['Municipality_code', 'Municipality_name', 'ROAZ_region']\n",
      "Row 146273 contains empty values for: ['Municipality_code', 'Municipality_name']\n",
      "Row 146274 contains empty values for: ['Municipality_code', 'Municipality_name']\n",
      "Row 146275 contains empty values for: ['Municipality_code', 'Municipality_name']\n",
      "Row 146276 contains empty values for: ['Municipality_code', 'Municipality_name']\n",
      "Row 146277 contains empty values for: ['Municipality_code', 'Municipality_name']\n",
      "Row 146278 contains empty values for: ['Municipality_code', 'Municipality_name']\n",
      "Row 146279 contains empty values for: ['Municipality_code', 'Municipality_name', 'Security_region_code', 'Security_region_name']\n",
      "Row 146280 contains empty values for: ['Municipality_code', 'Municipality_name']\n",
      "Row 146281 contains empty values for: ['Municipality_code', 'Municipality_name']\n",
      "Row 146282 contains empty values for: ['Municipality_code', 'Municipality_name']\n",
      "Row 146283 contains empty values for: ['Municipality_code', 'Municipality_name']\n",
      "Row 146284 contains empty values for: ['Municipality_code', 'Municipality_name']\n",
      "Row 146285 contains empty values for: ['Municipality_code', 'Municipality_name', 'ROAZ_region']\n",
      "Row 146639 contains empty values for: ['Municipality_code', 'Municipality_name']\n",
      "Row 146640 contains empty values for: ['Municipality_code', 'Municipality_name', 'ROAZ_region']\n",
      "Row 146641 contains empty values for: ['Municipality_code', 'Municipality_name']\n",
      "Row 146642 contains empty values for: ['Municipality_code', 'Municipality_name']\n",
      "Row 146643 contains empty values for: ['Municipality_code', 'Municipality_name', 'ROAZ_region']\n",
      "Row 146644 contains empty values for: ['Municipality_code', 'Municipality_name', 'ROAZ_region']\n",
      "Row 146645 contains empty values for: ['Municipality_code', 'Municipality_name']\n",
      "Row 146646 contains empty values for: ['Municipality_code', 'Municipality_name']\n",
      "Row 146647 contains empty values for: ['Municipality_code', 'Municipality_name']\n",
      "Row 146648 contains empty values for: ['Municipality_code', 'Municipality_name', 'ROAZ_region']\n",
      "Row 146649 contains empty values for: ['Municipality_code', 'Municipality_name']\n",
      "Row 146650 contains empty values for: ['Municipality_code', 'Municipality_name', 'ROAZ_region']\n",
      "Row 146651 contains empty values for: ['Municipality_code', 'Municipality_name']\n",
      "Row 146652 contains empty values for: ['Municipality_code', 'Municipality_name']\n",
      "Row 146653 contains empty values for: ['Municipality_code', 'Municipality_name']\n",
      "Row 146654 contains empty values for: ['Municipality_code', 'Municipality_name']\n",
      "Row 146655 contains empty values for: ['Municipality_code', 'Municipality_name']\n",
      "Row 146656 contains empty values for: ['Municipality_code', 'Municipality_name']\n",
      "Row 146657 contains empty values for: ['Municipality_code', 'Municipality_name', 'Security_region_code', 'Security_region_name']\n",
      "Row 146658 contains empty values for: ['Municipality_code', 'Municipality_name']\n",
      "Row 146659 contains empty values for: ['Municipality_code', 'Municipality_name']\n",
      "Row 146660 contains empty values for: ['Municipality_code', 'Municipality_name']\n",
      "Row 146661 contains empty values for: ['Municipality_code', 'Municipality_name']\n",
      "Row 146662 contains empty values for: ['Municipality_code', 'Municipality_name']\n",
      "Row 146663 contains empty values for: ['Municipality_code', 'Municipality_name', 'ROAZ_region']\n",
      "Row 147017 contains empty values for: ['Municipality_code', 'Municipality_name']\n",
      "Row 147018 contains empty values for: ['Municipality_code', 'Municipality_name', 'ROAZ_region']\n",
      "Row 147019 contains empty values for: ['Municipality_code', 'Municipality_name']\n",
      "Row 147020 contains empty values for: ['Municipality_code', 'Municipality_name']\n",
      "Row 147021 contains empty values for: ['Municipality_code', 'Municipality_name', 'ROAZ_region']\n",
      "Row 147022 contains empty values for: ['Municipality_code', 'Municipality_name', 'ROAZ_region']\n",
      "Row 147023 contains empty values for: ['Municipality_code', 'Municipality_name']\n",
      "Row 147024 contains empty values for: ['Municipality_code', 'Municipality_name']\n",
      "Row 147025 contains empty values for: ['Municipality_code', 'Municipality_name']\n",
      "Row 147026 contains empty values for: ['Municipality_code', 'Municipality_name', 'ROAZ_region']\n",
      "Row 147027 contains empty values for: ['Municipality_code', 'Municipality_name']\n",
      "Row 147028 contains empty values for: ['Municipality_code', 'Municipality_name', 'ROAZ_region']\n",
      "Row 147029 contains empty values for: ['Municipality_code', 'Municipality_name']\n",
      "Row 147030 contains empty values for: ['Municipality_code', 'Municipality_name']\n",
      "Row 147031 contains empty values for: ['Municipality_code', 'Municipality_name']\n",
      "Row 147032 contains empty values for: ['Municipality_code', 'Municipality_name']\n",
      "Row 147033 contains empty values for: ['Municipality_code', 'Municipality_name']\n",
      "Row 147034 contains empty values for: ['Municipality_code', 'Municipality_name']\n",
      "Row 147035 contains empty values for: ['Municipality_code', 'Municipality_name', 'Security_region_code', 'Security_region_name']\n",
      "Row 147036 contains empty values for: ['Municipality_code', 'Municipality_name']\n",
      "Row 147037 contains empty values for: ['Municipality_code', 'Municipality_name']\n",
      "Row 147038 contains empty values for: ['Municipality_code', 'Municipality_name']\n",
      "Row 147039 contains empty values for: ['Municipality_code', 'Municipality_name']\n",
      "Row 147040 contains empty values for: ['Municipality_code', 'Municipality_name']\n",
      "Row 147041 contains empty values for: ['Municipality_code', 'Municipality_name', 'ROAZ_region']\n",
      "Row 147395 contains empty values for: ['Municipality_code', 'Municipality_name']\n",
      "Row 147396 contains empty values for: ['Municipality_code', 'Municipality_name', 'ROAZ_region']\n",
      "Row 147397 contains empty values for: ['Municipality_code', 'Municipality_name']\n",
      "Row 147398 contains empty values for: ['Municipality_code', 'Municipality_name']\n",
      "Row 147399 contains empty values for: ['Municipality_code', 'Municipality_name', 'ROAZ_region']\n",
      "Row 147400 contains empty values for: ['Municipality_code', 'Municipality_name', 'ROAZ_region']\n",
      "Row 147401 contains empty values for: ['Municipality_code', 'Municipality_name']\n",
      "Row 147402 contains empty values for: ['Municipality_code', 'Municipality_name']\n",
      "Row 147403 contains empty values for: ['Municipality_code', 'Municipality_name']\n",
      "Row 147404 contains empty values for: ['Municipality_code', 'Municipality_name', 'ROAZ_region']\n",
      "Row 147405 contains empty values for: ['Municipality_code', 'Municipality_name']\n",
      "Row 147406 contains empty values for: ['Municipality_code', 'Municipality_name', 'ROAZ_region']\n",
      "Row 147407 contains empty values for: ['Municipality_code', 'Municipality_name']\n",
      "Row 147408 contains empty values for: ['Municipality_code', 'Municipality_name']\n",
      "Row 147409 contains empty values for: ['Municipality_code', 'Municipality_name']\n",
      "Row 147410 contains empty values for: ['Municipality_code', 'Municipality_name']\n",
      "Row 147411 contains empty values for: ['Municipality_code', 'Municipality_name']\n",
      "Row 147412 contains empty values for: ['Municipality_code', 'Municipality_name']\n",
      "Row 147413 contains empty values for: ['Municipality_code', 'Municipality_name', 'Security_region_code', 'Security_region_name']\n",
      "Row 147414 contains empty values for: ['Municipality_code', 'Municipality_name']\n",
      "Row 147415 contains empty values for: ['Municipality_code', 'Municipality_name']\n",
      "Row 147416 contains empty values for: ['Municipality_code', 'Municipality_name']\n",
      "Row 147417 contains empty values for: ['Municipality_code', 'Municipality_name']\n",
      "Row 147418 contains empty values for: ['Municipality_code', 'Municipality_name']\n",
      "Row 147419 contains empty values for: ['Municipality_code', 'Municipality_name', 'ROAZ_region']\n",
      "Row 147773 contains empty values for: ['Municipality_code', 'Municipality_name']\n",
      "Row 147774 contains empty values for: ['Municipality_code', 'Municipality_name', 'ROAZ_region']\n",
      "Row 147775 contains empty values for: ['Municipality_code', 'Municipality_name']\n",
      "Row 147776 contains empty values for: ['Municipality_code', 'Municipality_name']\n",
      "Row 147777 contains empty values for: ['Municipality_code', 'Municipality_name', 'ROAZ_region']\n",
      "Row 147778 contains empty values for: ['Municipality_code', 'Municipality_name', 'ROAZ_region']\n",
      "Row 147779 contains empty values for: ['Municipality_code', 'Municipality_name']\n",
      "Row 147780 contains empty values for: ['Municipality_code', 'Municipality_name']\n",
      "Row 147781 contains empty values for: ['Municipality_code', 'Municipality_name']\n",
      "Row 147782 contains empty values for: ['Municipality_code', 'Municipality_name', 'ROAZ_region']\n",
      "Row 147783 contains empty values for: ['Municipality_code', 'Municipality_name']\n",
      "Row 147784 contains empty values for: ['Municipality_code', 'Municipality_name', 'ROAZ_region']\n",
      "Row 147785 contains empty values for: ['Municipality_code', 'Municipality_name']\n",
      "Row 147786 contains empty values for: ['Municipality_code', 'Municipality_name']\n",
      "Row 147787 contains empty values for: ['Municipality_code', 'Municipality_name']\n",
      "Row 147788 contains empty values for: ['Municipality_code', 'Municipality_name']\n",
      "Row 147789 contains empty values for: ['Municipality_code', 'Municipality_name']\n",
      "Row 147790 contains empty values for: ['Municipality_code', 'Municipality_name']\n",
      "Row 147791 contains empty values for: ['Municipality_code', 'Municipality_name', 'Security_region_code', 'Security_region_name']\n",
      "Row 147792 contains empty values for: ['Municipality_code', 'Municipality_name']\n",
      "Row 147793 contains empty values for: ['Municipality_code', 'Municipality_name']\n",
      "Row 147794 contains empty values for: ['Municipality_code', 'Municipality_name']\n",
      "Row 147795 contains empty values for: ['Municipality_code', 'Municipality_name']\n",
      "Row 147796 contains empty values for: ['Municipality_code', 'Municipality_name']\n",
      "Row 147797 contains empty values for: ['Municipality_code', 'Municipality_name', 'ROAZ_region']\n",
      "Row 148151 contains empty values for: ['Municipality_code', 'Municipality_name']\n",
      "Row 148152 contains empty values for: ['Municipality_code', 'Municipality_name', 'ROAZ_region']\n",
      "Row 148153 contains empty values for: ['Municipality_code', 'Municipality_name']\n",
      "Row 148154 contains empty values for: ['Municipality_code', 'Municipality_name']\n",
      "Row 148155 contains empty values for: ['Municipality_code', 'Municipality_name', 'ROAZ_region']\n",
      "Row 148156 contains empty values for: ['Municipality_code', 'Municipality_name', 'ROAZ_region']\n",
      "Row 148157 contains empty values for: ['Municipality_code', 'Municipality_name']\n",
      "Row 148158 contains empty values for: ['Municipality_code', 'Municipality_name']\n",
      "Row 148159 contains empty values for: ['Municipality_code', 'Municipality_name']\n",
      "Row 148160 contains empty values for: ['Municipality_code', 'Municipality_name', 'ROAZ_region']\n",
      "Row 148161 contains empty values for: ['Municipality_code', 'Municipality_name']\n",
      "Row 148162 contains empty values for: ['Municipality_code', 'Municipality_name', 'ROAZ_region']\n",
      "Row 148163 contains empty values for: ['Municipality_code', 'Municipality_name']\n",
      "Row 148164 contains empty values for: ['Municipality_code', 'Municipality_name']\n",
      "Row 148165 contains empty values for: ['Municipality_code', 'Municipality_name']\n",
      "Row 148166 contains empty values for: ['Municipality_code', 'Municipality_name']\n",
      "Row 148167 contains empty values for: ['Municipality_code', 'Municipality_name']\n",
      "Row 148168 contains empty values for: ['Municipality_code', 'Municipality_name']\n",
      "Row 148169 contains empty values for: ['Municipality_code', 'Municipality_name', 'Security_region_code', 'Security_region_name']\n",
      "Row 148170 contains empty values for: ['Municipality_code', 'Municipality_name']\n",
      "Row 148171 contains empty values for: ['Municipality_code', 'Municipality_name']\n",
      "Row 148172 contains empty values for: ['Municipality_code', 'Municipality_name']\n",
      "Row 148173 contains empty values for: ['Municipality_code', 'Municipality_name']\n",
      "Row 148174 contains empty values for: ['Municipality_code', 'Municipality_name']\n",
      "Row 148175 contains empty values for: ['Municipality_code', 'Municipality_name', 'ROAZ_region']\n"
     ]
    }
   ],
   "source": [
    "for i, row in enumerate(data_dicts):\n",
    "    missing_keys = []\n",
    "    for key, val in row.items():\n",
    "        if val == '':\n",
    "            missing_keys.append(key)\n",
    "    if missing_keys:\n",
    "        print(f'Row {i} contains empty values for: {missing_keys}')"
   ]
  },
  {
   "cell_type": "markdown",
   "metadata": {},
   "source": [
    "**16. What column(s) is/are missing most often?**\n",
    "\n",
    "*TODO: Your answer here. 'Municipality_code' and 'Municipality_name'*\n",
    "\n",
    "Missing data may become a problem if we want to draw comparisons between certain parts of the data. Still, there is no universal and definitive *correct approach* to solving the problem of missing data. In fact, in this case there might actually not be a good way to fill in the missing municipalities here.\n",
    "\n",
    "For the sake of exercise, we will create a new dataset for your chosen municipality where the `Total_reported` new cases will be replaced with the impossible number `-1` from a number of the dates.\n",
    "\n",
    "**17. Why is `-1` an impossible number here?**\n",
    "\n",
    "*TODO: Your answer here. Using that you wil get the missing date quick insightful.*"
   ]
  },
  {
   "cell_type": "code",
   "execution_count": 110,
   "metadata": {},
   "outputs": [
    {
     "output_type": "error",
     "ename": "NameError",
     "evalue": "name 'np' is not defined",
     "traceback": [
      "\u001b[1;31m---------------------------------------------------------------------------\u001b[0m",
      "\u001b[1;31mNameError\u001b[0m                                 Traceback (most recent call last)",
      "\u001b[1;32m<ipython-input-110-12c262b87b2a>\u001b[0m in \u001b[0;36m<module>\u001b[1;34m\u001b[0m\n\u001b[1;32m----> 1\u001b[1;33m noisy_new_cases_per_day = [(date, cases) if np.random.rand() < 0.8\n\u001b[0m\u001b[0;32m      2\u001b[0m                            \u001b[1;32melse\u001b[0m \u001b[1;33m(\u001b[0m\u001b[0mdate\u001b[0m\u001b[1;33m,\u001b[0m \u001b[1;33m-\u001b[0m\u001b[1;36m1\u001b[0m\u001b[1;33m)\u001b[0m\u001b[1;33m\u001b[0m\u001b[1;33m\u001b[0m\u001b[0m\n\u001b[0;32m      3\u001b[0m                            for date, cases in new_cases_per_day]\n\u001b[0;32m      4\u001b[0m \u001b[1;33m\u001b[0m\u001b[0m\n\u001b[0;32m      5\u001b[0m \u001b[0mfig\u001b[0m\u001b[1;33m,\u001b[0m \u001b[0max\u001b[0m \u001b[1;33m=\u001b[0m \u001b[0mplt\u001b[0m\u001b[1;33m.\u001b[0m\u001b[0msubplots\u001b[0m\u001b[1;33m(\u001b[0m\u001b[0mfigsize\u001b[0m\u001b[1;33m=\u001b[0m\u001b[1;33m(\u001b[0m\u001b[1;36m16\u001b[0m\u001b[1;33m,\u001b[0m\u001b[1;36m9\u001b[0m\u001b[1;33m)\u001b[0m\u001b[1;33m)\u001b[0m\u001b[1;33m\u001b[0m\u001b[1;33m\u001b[0m\u001b[0m\n",
      "\u001b[1;32m<ipython-input-110-12c262b87b2a>\u001b[0m in \u001b[0;36m<listcomp>\u001b[1;34m(.0)\u001b[0m\n\u001b[1;32m----> 1\u001b[1;33m noisy_new_cases_per_day = [(date, cases) if np.random.rand() < 0.8\n\u001b[0m\u001b[0;32m      2\u001b[0m                            \u001b[1;32melse\u001b[0m \u001b[1;33m(\u001b[0m\u001b[0mdate\u001b[0m\u001b[1;33m,\u001b[0m \u001b[1;33m-\u001b[0m\u001b[1;36m1\u001b[0m\u001b[1;33m)\u001b[0m\u001b[1;33m\u001b[0m\u001b[1;33m\u001b[0m\u001b[0m\n\u001b[0;32m      3\u001b[0m                            for date, cases in new_cases_per_day]\n\u001b[0;32m      4\u001b[0m \u001b[1;33m\u001b[0m\u001b[0m\n\u001b[0;32m      5\u001b[0m \u001b[0mfig\u001b[0m\u001b[1;33m,\u001b[0m \u001b[0max\u001b[0m \u001b[1;33m=\u001b[0m \u001b[0mplt\u001b[0m\u001b[1;33m.\u001b[0m\u001b[0msubplots\u001b[0m\u001b[1;33m(\u001b[0m\u001b[0mfigsize\u001b[0m\u001b[1;33m=\u001b[0m\u001b[1;33m(\u001b[0m\u001b[1;36m16\u001b[0m\u001b[1;33m,\u001b[0m\u001b[1;36m9\u001b[0m\u001b[1;33m)\u001b[0m\u001b[1;33m)\u001b[0m\u001b[1;33m\u001b[0m\u001b[1;33m\u001b[0m\u001b[0m\n",
      "\u001b[1;31mNameError\u001b[0m: name 'np' is not defined"
     ]
    }
   ],
   "source": [
    "noisy_new_cases_per_day = [(date, cases) if np.random.rand() < 0.8\n",
    "                           else (date, -1)\n",
    "                           for date, cases in new_cases_per_day]\n",
    "\n",
    "fig, ax = plt.subplots(figsize=(16,9))\n",
    "ax.plot([date for date, _ in new_cases_per_day],\n",
    "        [cases for _, cases in new_cases_per_day], '.', label='true data')\n",
    "ax.plot([date for date, _ in noisy_new_cases_per_day],\n",
    "        [cases for _, cases in noisy_new_cases_per_day],\n",
    "        label='noisy data')\n",
    "ax.set_xlabel('Date')\n",
    "ax.set_ylabel('Number of new cases')\n",
    "ax.legend();"
   ]
  },
  {
   "cell_type": "markdown",
   "metadata": {},
   "source": [
    "This plot is a lot more messy than the clean data plot, in addition to also showing the impossible number `-1`.\n",
    "\n",
    "**18. What would be a good way to fill in the missing values? You will not need to implement them, so use your imagination.**\n",
    "\n",
    "*TODO: You can use the text 'missing' in the cells.*\n",
    "\n",
    "Here we'll use the mean of the two surrounding dates' values. For example:\n",
    "\n",
    "1. `2020-02-03` is missing\n",
    "2. We take the values from the day before, `2020-02-02`, and the day after, `2020-02-04`. If the data from the day before or after is not available, we use the nearest available datapoint instead.\n",
    "3. We add them up\n",
    "4. Divide them by $2$\n",
    "5. We insert the result as the value for `2020-02-03`.\n",
    "\n",
    "This is a simple way of doing **interpolation** -- estimating missing values within the range of the data we have. This is the opposite of **extrapolation**, where we have estimate values *outside* of the range of the data we have.\n",
    "\n",
    "Let's see what the implementation and the result look like."
   ]
  },
  {
   "cell_type": "code",
   "execution_count": 118,
   "metadata": {},
   "outputs": [
    {
     "output_type": "error",
     "ename": "NameError",
     "evalue": "name 'noisy_new_cases_per_day' is not defined",
     "traceback": [
      "\u001b[1;31m---------------------------------------------------------------------------\u001b[0m",
      "\u001b[1;31mNameError\u001b[0m                                 Traceback (most recent call last)",
      "\u001b[1;32m<ipython-input-118-98938d4e56ea>\u001b[0m in \u001b[0;36m<module>\u001b[1;34m\u001b[0m\n\u001b[0;32m      1\u001b[0m \u001b[0minterpolated_data\u001b[0m \u001b[1;33m=\u001b[0m \u001b[1;33m[\u001b[0m\u001b[1;33m]\u001b[0m\u001b[1;33m\u001b[0m\u001b[1;33m\u001b[0m\u001b[0m\n\u001b[1;32m----> 2\u001b[1;33m \u001b[0mmax_data_index\u001b[0m \u001b[1;33m=\u001b[0m \u001b[0mlen\u001b[0m\u001b[1;33m(\u001b[0m\u001b[0mnoisy_new_cases_per_day\u001b[0m\u001b[1;33m)\u001b[0m \u001b[1;33m-\u001b[0m \u001b[1;36m1\u001b[0m\u001b[1;33m\u001b[0m\u001b[1;33m\u001b[0m\u001b[0m\n\u001b[0m\u001b[0;32m      3\u001b[0m \u001b[1;32mfor\u001b[0m \u001b[0mi\u001b[0m\u001b[1;33m,\u001b[0m \u001b[1;33m(\u001b[0m\u001b[0mdate\u001b[0m\u001b[1;33m,\u001b[0m \u001b[0mx\u001b[0m\u001b[1;33m)\u001b[0m \u001b[1;32min\u001b[0m \u001b[0menumerate\u001b[0m\u001b[1;33m(\u001b[0m\u001b[0mnoisy_new_cases_per_day\u001b[0m\u001b[1;33m)\u001b[0m\u001b[1;33m:\u001b[0m\u001b[1;33m\u001b[0m\u001b[1;33m\u001b[0m\u001b[0m\n\u001b[0;32m      4\u001b[0m     \u001b[1;31m# If we have an impossible value\u001b[0m\u001b[1;33m\u001b[0m\u001b[1;33m\u001b[0m\u001b[1;33m\u001b[0m\u001b[0m\n\u001b[0;32m      5\u001b[0m     \u001b[1;32mif\u001b[0m \u001b[0mx\u001b[0m \u001b[1;33m==\u001b[0m \u001b[1;33m-\u001b[0m\u001b[1;36m1\u001b[0m\u001b[1;33m:\u001b[0m\u001b[1;33m\u001b[0m\u001b[1;33m\u001b[0m\u001b[0m\n",
      "\u001b[1;31mNameError\u001b[0m: name 'noisy_new_cases_per_day' is not defined"
     ]
    }
   ],
   "source": [
    "interpolated_data = []\n",
    "max_data_index = len(noisy_new_cases_per_day) - 1\n",
    "for i, (date, x) in enumerate(noisy_new_cases_per_day):\n",
    "    # If we have an impossible value\n",
    "    if x == -1:\n",
    "        # Scan the left side for values that are not -1\n",
    "        delta_left = 0\n",
    "        try:\n",
    "            while noisy_new_cases_per_day[i - delta_left][1] == -1:\n",
    "                delta_left += 1\n",
    "                # If we're outside of the data we can't do interpolation. It would be extrapolation.\n",
    "                if i - delta_left < 0:\n",
    "                    raise IndexError\n",
    "        except IndexError:\n",
    "            continue\n",
    "        \n",
    "        # Scan the right side for values that are not -1\n",
    "        delta_right = 0\n",
    "        try:\n",
    "            while noisy_new_cases_per_day[i + delta_right][1] == -1:\n",
    "                delta_right += 1\n",
    "                # If we're outside of the data we can't do interpolation. It would be extrapolation.\n",
    "                if i + delta_right > max_data_index:\n",
    "                    raise IndexError\n",
    "        except IndexError:\n",
    "            continue\n",
    "            \n",
    "        # Finally use the mean of two nearest useful values\n",
    "        interpolated_value = ((noisy_new_cases_per_day[i - delta_left][1]\n",
    "                               + noisy_new_cases_per_day[i + delta_right][1])\n",
    "                              / 2)\n",
    "        interpolated_data.append((date, interpolated_value))\n",
    "    else:\n",
    "        interpolated_data.append((date, x))\n",
    "\n",
    "fig, ax = plt.subplots(figsize=(16,9))\n",
    "ax.plot([date for date, _ in new_cases_per_day],\n",
    "        [cases for _, cases in new_cases_per_day], '.', label='true data')\n",
    "ax.plot([date for date, _ in interpolated_data],\n",
    "        [cases for _, cases in interpolated_data],\n",
    "        label='interpolated data')\n",
    "ax.plot([date for (date, cases) in noisy_new_cases_per_day if cases == -1],\n",
    "        [cases for _, cases in noisy_new_cases_per_day if cases == -1], '.',\n",
    "        label='previously missing data')\n",
    "ax.set_xlabel('Date')\n",
    "ax.set_ylabel('Number of new cases')\n",
    "ax.legend();"
   ]
  },
  {
   "cell_type": "markdown",
   "metadata": {},
   "source": [
    "**19. Is this a good way to fill in missing values, in your opinion? Explain.**\n",
    "\n",
    "*TODO: Your answer here.*\n",
    "\n",
    "**20. In which cases will this way of filling in missing values work well, and when will it not work well at all? Give an example for both cases.**\n",
    "\n",
    "*TODO: Your answer here.*"
   ]
  },
  {
   "cell_type": "markdown",
   "metadata": {},
   "source": [
    "## Conclusion\n",
    "\n",
    "Data preparation may not be the most glamorous part of data analytics, but it is quite important. If we do not do it well, every analytics step that comes after will suffer. It is as they say: *garbage in, garbage out*.\n",
    "\n",
    "It is also good to know that since most data preparation steps are quite general, there are plenty of tools that make doing it a lot easier and faster. All of the above filtering, selecting and interpolating can be done in a few lines of code! But now *you* know how it works under the hood, and why it's so important!"
   ]
  },
  {
   "cell_type": "code",
   "execution_count": null,
   "metadata": {},
   "outputs": [],
   "source": []
  }
 ],
 "metadata": {
  "kernelspec": {
   "name": "python394jvsc74a57bd0d0d6dfa32ce668e490c62d38de942802a45f5cc389c4871bf6405dd261675400",
   "display_name": "Python 3.9.4 64-bit"
  },
  "language_info": {
   "codemirror_mode": {
    "name": "ipython",
    "version": 3
   },
   "file_extension": ".py",
   "mimetype": "text/x-python",
   "name": "python",
   "nbconvert_exporter": "python",
   "pygments_lexer": "ipython3",
   "version": "3.9.4"
  },
  "metadata": {
   "interpreter": {
    "hash": "d0d6dfa32ce668e490c62d38de942802a45f5cc389c4871bf6405dd261675400"
   }
  }
 },
 "nbformat": 4,
 "nbformat_minor": 4
}